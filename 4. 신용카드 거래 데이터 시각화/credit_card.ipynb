{
  "nbformat": 4,
  "nbformat_minor": 0,
  "metadata": {
    "colab": {
      "name": "credit_card.ipynb",
      "provenance": [],
      "collapsed_sections": []
    },
    "kernelspec": {
      "name": "python3",
      "display_name": "Python 3"
    },
    "language_info": {
      "name": "python"
    }
  },
  "cells": [
    {
      "cell_type": "markdown",
      "metadata": {
        "id": "zQ36w1PnUFr_"
      },
      "source": [
        "# 1. 데이터 전처리"
      ]
    },
    {
      "cell_type": "code",
      "metadata": {
        "id": "Sz44Wzn02quz"
      },
      "source": [
        "import pandas as pd\n",
        "import numpy as np\n",
        "\n",
        "train=pd.read_csv('/content/train.csv')\n",
        "test=pd.read_csv('/content/test.csv')\n",
        "submit=pd.read_csv('/content/submission.csv')\n"
      ],
      "execution_count": null,
      "outputs": []
    },
    {
      "cell_type": "code",
      "metadata": {
        "colab": {
          "base_uri": "https://localhost:8080/",
          "height": 420
        },
        "id": "Zmq2kIvTLSGc",
        "outputId": "064dd358-ef10-4013-9644-184229562c4d"
      },
      "source": [
        "\n",
        "train=train.drop(['time'],axis=1)\n",
        "test=test.drop(['time'],axis=1)\n",
        "\n",
        "train['date']=pd.to_datetime(train['date'])\n",
        "test['date']=pd.to_datetime(test['date'])\n",
        "\n",
        "#datetime항목의 유형을 datetime으로 바꿔줌\n",
        "\n",
        "train"
      ],
      "execution_count": null,
      "outputs": [
        {
          "output_type": "execute_result",
          "data": {
            "text/html": [
              "<div>\n",
              "<style scoped>\n",
              "    .dataframe tbody tr th:only-of-type {\n",
              "        vertical-align: middle;\n",
              "    }\n",
              "\n",
              "    .dataframe tbody tr th {\n",
              "        vertical-align: top;\n",
              "    }\n",
              "\n",
              "    .dataframe thead th {\n",
              "        text-align: right;\n",
              "    }\n",
              "</style>\n",
              "<table border=\"1\" class=\"dataframe\">\n",
              "  <thead>\n",
              "    <tr style=\"text-align: right;\">\n",
              "      <th></th>\n",
              "      <th>store_id</th>\n",
              "      <th>date</th>\n",
              "      <th>card_id</th>\n",
              "      <th>amount</th>\n",
              "      <th>installments</th>\n",
              "      <th>days_of_week</th>\n",
              "      <th>holyday</th>\n",
              "    </tr>\n",
              "  </thead>\n",
              "  <tbody>\n",
              "    <tr>\n",
              "      <th>0</th>\n",
              "      <td>0</td>\n",
              "      <td>2016-12-14</td>\n",
              "      <td>d297bba73f</td>\n",
              "      <td>5</td>\n",
              "      <td>NaN</td>\n",
              "      <td>2</td>\n",
              "      <td>0</td>\n",
              "    </tr>\n",
              "    <tr>\n",
              "      <th>1</th>\n",
              "      <td>0</td>\n",
              "      <td>2016-12-14</td>\n",
              "      <td>d297bba73f</td>\n",
              "      <td>-5</td>\n",
              "      <td>NaN</td>\n",
              "      <td>2</td>\n",
              "      <td>0</td>\n",
              "    </tr>\n",
              "    <tr>\n",
              "      <th>2</th>\n",
              "      <td>0</td>\n",
              "      <td>2016-12-19</td>\n",
              "      <td>0880849c05</td>\n",
              "      <td>144</td>\n",
              "      <td>NaN</td>\n",
              "      <td>0</td>\n",
              "      <td>0</td>\n",
              "    </tr>\n",
              "    <tr>\n",
              "      <th>3</th>\n",
              "      <td>0</td>\n",
              "      <td>2016-12-19</td>\n",
              "      <td>8b4f9e0e95</td>\n",
              "      <td>66</td>\n",
              "      <td>NaN</td>\n",
              "      <td>0</td>\n",
              "      <td>0</td>\n",
              "    </tr>\n",
              "    <tr>\n",
              "      <th>4</th>\n",
              "      <td>0</td>\n",
              "      <td>2016-12-19</td>\n",
              "      <td>7ad237eed0</td>\n",
              "      <td>24</td>\n",
              "      <td>NaN</td>\n",
              "      <td>0</td>\n",
              "      <td>0</td>\n",
              "    </tr>\n",
              "    <tr>\n",
              "      <th>...</th>\n",
              "      <td>...</td>\n",
              "      <td>...</td>\n",
              "      <td>...</td>\n",
              "      <td>...</td>\n",
              "      <td>...</td>\n",
              "      <td>...</td>\n",
              "      <td>...</td>\n",
              "    </tr>\n",
              "    <tr>\n",
              "      <th>3362791</th>\n",
              "      <td>1799</td>\n",
              "      <td>2018-07-19</td>\n",
              "      <td>e254bf70d9</td>\n",
              "      <td>600</td>\n",
              "      <td>NaN</td>\n",
              "      <td>3</td>\n",
              "      <td>0</td>\n",
              "    </tr>\n",
              "    <tr>\n",
              "      <th>3362792</th>\n",
              "      <td>1799</td>\n",
              "      <td>2018-07-19</td>\n",
              "      <td>8f41c89891</td>\n",
              "      <td>275</td>\n",
              "      <td>NaN</td>\n",
              "      <td>3</td>\n",
              "      <td>0</td>\n",
              "    </tr>\n",
              "    <tr>\n",
              "      <th>3362793</th>\n",
              "      <td>1799</td>\n",
              "      <td>2018-07-22</td>\n",
              "      <td>aeb64fe1fb</td>\n",
              "      <td>350</td>\n",
              "      <td>NaN</td>\n",
              "      <td>6</td>\n",
              "      <td>0</td>\n",
              "    </tr>\n",
              "    <tr>\n",
              "      <th>3362794</th>\n",
              "      <td>1799</td>\n",
              "      <td>2018-07-25</td>\n",
              "      <td>57932602d6</td>\n",
              "      <td>300</td>\n",
              "      <td>NaN</td>\n",
              "      <td>2</td>\n",
              "      <td>0</td>\n",
              "    </tr>\n",
              "    <tr>\n",
              "      <th>3362795</th>\n",
              "      <td>1799</td>\n",
              "      <td>2018-07-30</td>\n",
              "      <td>42d354807a</td>\n",
              "      <td>325</td>\n",
              "      <td>NaN</td>\n",
              "      <td>0</td>\n",
              "      <td>0</td>\n",
              "    </tr>\n",
              "  </tbody>\n",
              "</table>\n",
              "<p>3362796 rows × 7 columns</p>\n",
              "</div>"
            ],
            "text/plain": [
              "         store_id       date     card_id  ...  installments  days_of_week  holyday\n",
              "0               0 2016-12-14  d297bba73f  ...           NaN             2        0\n",
              "1               0 2016-12-14  d297bba73f  ...           NaN             2        0\n",
              "2               0 2016-12-19  0880849c05  ...           NaN             0        0\n",
              "3               0 2016-12-19  8b4f9e0e95  ...           NaN             0        0\n",
              "4               0 2016-12-19  7ad237eed0  ...           NaN             0        0\n",
              "...           ...        ...         ...  ...           ...           ...      ...\n",
              "3362791      1799 2018-07-19  e254bf70d9  ...           NaN             3        0\n",
              "3362792      1799 2018-07-19  8f41c89891  ...           NaN             3        0\n",
              "3362793      1799 2018-07-22  aeb64fe1fb  ...           NaN             6        0\n",
              "3362794      1799 2018-07-25  57932602d6  ...           NaN             2        0\n",
              "3362795      1799 2018-07-30  42d354807a  ...           NaN             0        0\n",
              "\n",
              "[3362796 rows x 7 columns]"
            ]
          },
          "metadata": {
            "tags": []
          },
          "execution_count": 58
        }
      ]
    },
    {
      "cell_type": "code",
      "metadata": {
        "colab": {
          "base_uri": "https://localhost:8080/"
        },
        "id": "xrNZO3_cOR4z",
        "outputId": "cf2fc219-c01d-4e01-f714-eec791f7e203"
      },
      "source": [
        "train['date']=pd.to_datetime(train['date'])\n",
        "test['date']=pd.to_datetime(test['date'])\n",
        "\n",
        "#datetime항목의 유형을 datetime으로 바꿔줌\n",
        "train.dtypes"
      ],
      "execution_count": null,
      "outputs": [
        {
          "output_type": "execute_result",
          "data": {
            "text/plain": [
              "store_id                 int64\n",
              "date            datetime64[ns]\n",
              "card_id                 object\n",
              "amount                   int64\n",
              "installments           float64\n",
              "days_of_week             int64\n",
              "holyday                  int64\n",
              "dtype: object"
            ]
          },
          "metadata": {
            "tags": []
          },
          "execution_count": 60
        }
      ]
    },
    {
      "cell_type": "code",
      "metadata": {
        "colab": {
          "base_uri": "https://localhost:8080/"
        },
        "id": "TG3_Wc8bPiJb",
        "outputId": "6fbc9850-056a-4607-f021-ea86e7d854eb"
      },
      "source": [
        "print(train.isna().sum())\n",
        "\n",
        "train=train.fillna(0) #할부개월 0인 경우가 일시불을 의미하므로 nan값을 0으로 채움\n",
        "test=test.fillna(0)\n",
        "\n",
        "print(train.isna().sum()) #제대로 채워졌는지 확인"
      ],
      "execution_count": null,
      "outputs": [
        {
          "output_type": "stream",
          "text": [
            "store_id              0\n",
            "date                  0\n",
            "card_id               0\n",
            "amount                0\n",
            "installments    3345936\n",
            "days_of_week          0\n",
            "holyday               0\n",
            "dtype: int64\n",
            "store_id        0\n",
            "date            0\n",
            "card_id         0\n",
            "amount          0\n",
            "installments    0\n",
            "days_of_week    0\n",
            "holyday         0\n",
            "dtype: int64\n"
          ],
          "name": "stdout"
        }
      ]
    },
    {
      "cell_type": "code",
      "metadata": {
        "colab": {
          "base_uri": "https://localhost:8080/",
          "height": 420
        },
        "id": "E1Rr09XbSJa6",
        "outputId": "abf9865d-4c4f-4741-8013-45e1d36521cb"
      },
      "source": [
        "from sklearn import preprocessing\n",
        "le = preprocessing.LabelEncoder()\n",
        "train['card_id']=le.fit_transform(train['card_id'])\n",
        "test['card_id']=le.fit_transform(test['card_id'])\n",
        "test"
      ],
      "execution_count": null,
      "outputs": [
        {
          "output_type": "execute_result",
          "data": {
            "text/html": [
              "<div>\n",
              "<style scoped>\n",
              "    .dataframe tbody tr th:only-of-type {\n",
              "        vertical-align: middle;\n",
              "    }\n",
              "\n",
              "    .dataframe tbody tr th {\n",
              "        vertical-align: top;\n",
              "    }\n",
              "\n",
              "    .dataframe thead th {\n",
              "        text-align: right;\n",
              "    }\n",
              "</style>\n",
              "<table border=\"1\" class=\"dataframe\">\n",
              "  <thead>\n",
              "    <tr style=\"text-align: right;\">\n",
              "      <th></th>\n",
              "      <th>store_id</th>\n",
              "      <th>date</th>\n",
              "      <th>card_id</th>\n",
              "      <th>amount</th>\n",
              "      <th>installments</th>\n",
              "      <th>days_of_week</th>\n",
              "      <th>holyday</th>\n",
              "    </tr>\n",
              "  </thead>\n",
              "  <tbody>\n",
              "    <tr>\n",
              "      <th>0</th>\n",
              "      <td>0</td>\n",
              "      <td>2016-08-01</td>\n",
              "      <td>160491</td>\n",
              "      <td>125</td>\n",
              "      <td>0.0</td>\n",
              "      <td>0</td>\n",
              "      <td>0</td>\n",
              "    </tr>\n",
              "    <tr>\n",
              "      <th>1</th>\n",
              "      <td>0</td>\n",
              "      <td>2016-08-01</td>\n",
              "      <td>102181</td>\n",
              "      <td>90</td>\n",
              "      <td>0.0</td>\n",
              "      <td>0</td>\n",
              "      <td>0</td>\n",
              "    </tr>\n",
              "    <tr>\n",
              "      <th>2</th>\n",
              "      <td>0</td>\n",
              "      <td>2016-08-01</td>\n",
              "      <td>93301</td>\n",
              "      <td>150</td>\n",
              "      <td>0.0</td>\n",
              "      <td>0</td>\n",
              "      <td>0</td>\n",
              "    </tr>\n",
              "    <tr>\n",
              "      <th>3</th>\n",
              "      <td>0</td>\n",
              "      <td>2016-08-01</td>\n",
              "      <td>117048</td>\n",
              "      <td>362</td>\n",
              "      <td>0.0</td>\n",
              "      <td>0</td>\n",
              "      <td>0</td>\n",
              "    </tr>\n",
              "    <tr>\n",
              "      <th>4</th>\n",
              "      <td>0</td>\n",
              "      <td>2016-08-01</td>\n",
              "      <td>89065</td>\n",
              "      <td>125</td>\n",
              "      <td>0.0</td>\n",
              "      <td>0</td>\n",
              "      <td>0</td>\n",
              "    </tr>\n",
              "    <tr>\n",
              "      <th>...</th>\n",
              "      <td>...</td>\n",
              "      <td>...</td>\n",
              "      <td>...</td>\n",
              "      <td>...</td>\n",
              "      <td>...</td>\n",
              "      <td>...</td>\n",
              "      <td>...</td>\n",
              "    </tr>\n",
              "    <tr>\n",
              "      <th>473387</th>\n",
              "      <td>199</td>\n",
              "      <td>2018-03-30</td>\n",
              "      <td>40383</td>\n",
              "      <td>65</td>\n",
              "      <td>0.0</td>\n",
              "      <td>4</td>\n",
              "      <td>0</td>\n",
              "    </tr>\n",
              "    <tr>\n",
              "      <th>473388</th>\n",
              "      <td>199</td>\n",
              "      <td>2018-03-30</td>\n",
              "      <td>49235</td>\n",
              "      <td>65</td>\n",
              "      <td>0.0</td>\n",
              "      <td>4</td>\n",
              "      <td>0</td>\n",
              "    </tr>\n",
              "    <tr>\n",
              "      <th>473389</th>\n",
              "      <td>199</td>\n",
              "      <td>2018-03-30</td>\n",
              "      <td>38305</td>\n",
              "      <td>65</td>\n",
              "      <td>0.0</td>\n",
              "      <td>4</td>\n",
              "      <td>0</td>\n",
              "    </tr>\n",
              "    <tr>\n",
              "      <th>473390</th>\n",
              "      <td>199</td>\n",
              "      <td>2018-03-30</td>\n",
              "      <td>29370</td>\n",
              "      <td>200</td>\n",
              "      <td>0.0</td>\n",
              "      <td>4</td>\n",
              "      <td>0</td>\n",
              "    </tr>\n",
              "    <tr>\n",
              "      <th>473391</th>\n",
              "      <td>199</td>\n",
              "      <td>2018-03-31</td>\n",
              "      <td>39021</td>\n",
              "      <td>500</td>\n",
              "      <td>0.0</td>\n",
              "      <td>5</td>\n",
              "      <td>0</td>\n",
              "    </tr>\n",
              "  </tbody>\n",
              "</table>\n",
              "<p>473392 rows × 7 columns</p>\n",
              "</div>"
            ],
            "text/plain": [
              "        store_id       date  card_id  ...  installments  days_of_week  holyday\n",
              "0              0 2016-08-01   160491  ...           0.0             0        0\n",
              "1              0 2016-08-01   102181  ...           0.0             0        0\n",
              "2              0 2016-08-01    93301  ...           0.0             0        0\n",
              "3              0 2016-08-01   117048  ...           0.0             0        0\n",
              "4              0 2016-08-01    89065  ...           0.0             0        0\n",
              "...          ...        ...      ...  ...           ...           ...      ...\n",
              "473387       199 2018-03-30    40383  ...           0.0             4        0\n",
              "473388       199 2018-03-30    49235  ...           0.0             4        0\n",
              "473389       199 2018-03-30    38305  ...           0.0             4        0\n",
              "473390       199 2018-03-30    29370  ...           0.0             4        0\n",
              "473391       199 2018-03-31    39021  ...           0.0             5        0\n",
              "\n",
              "[473392 rows x 7 columns]"
            ]
          },
          "metadata": {
            "tags": []
          },
          "execution_count": 62
        }
      ]
    },
    {
      "cell_type": "code",
      "metadata": {
        "colab": {
          "base_uri": "https://localhost:8080/"
        },
        "id": "uB7oUIhITx9_",
        "outputId": "0178ebac-fa88-4f88-f518-4d95aac8a81f"
      },
      "source": [
        "print(train.dtypes)\n",
        "print(test.dtypes)\n",
        "print(train[train['amount']<0])"
      ],
      "execution_count": null,
      "outputs": [
        {
          "output_type": "stream",
          "text": [
            "store_id                 int64\n",
            "date            datetime64[ns]\n",
            "card_id                  int64\n",
            "amount                   int64\n",
            "installments           float64\n",
            "days_of_week             int64\n",
            "holyday                  int64\n",
            "dtype: object\n",
            "store_id                 int64\n",
            "date            datetime64[ns]\n",
            "card_id                  int64\n",
            "amount                   int64\n",
            "installments           float64\n",
            "days_of_week             int64\n",
            "holyday                  int64\n",
            "dtype: object\n",
            "         store_id       date  card_id  ...  installments  days_of_week  holyday\n",
            "1               0 2016-12-14   758668  ...           0.0             2        0\n",
            "111             0 2016-12-20   333909  ...           0.0             1        0\n",
            "155             0 2016-12-21   366635  ...           3.0             2        0\n",
            "165             0 2016-12-21   217203  ...           0.0             2        0\n",
            "169             0 2016-12-21   217203  ...           0.0             2        0\n",
            "...           ...        ...      ...  ...           ...           ...      ...\n",
            "3362257      1798 2018-06-20   823407  ...           0.0             2        0\n",
            "3362259      1798 2018-06-20   823407  ...           0.0             2        0\n",
            "3362260      1798 2018-06-20   823407  ...           0.0             2        0\n",
            "3362677      1799 2018-01-26   278060  ...           0.0             4        0\n",
            "3362757      1799 2018-05-27   914990  ...           0.0             6        0\n",
            "\n",
            "[33832 rows x 7 columns]\n"
          ],
          "name": "stdout"
        }
      ]
    },
    {
      "cell_type": "markdown",
      "metadata": {
        "id": "mG3zj4DNUSfq"
      },
      "source": [
        "# 2. 데이터 시각화"
      ]
    },
    {
      "cell_type": "code",
      "metadata": {
        "colab": {
          "base_uri": "https://localhost:8080/",
          "height": 282
        },
        "id": "ZSP62hAPUD9P",
        "outputId": "90758621-0fa4-4a47-9ba9-6655f456af0d"
      },
      "source": [
        "import matplotlib.pyplot as plt\n",
        "plt.plot(train['amount'],train['holyday'])"
      ],
      "execution_count": null,
      "outputs": [
        {
          "output_type": "execute_result",
          "data": {
            "text/plain": [
              "[<matplotlib.lines.Line2D at 0x7fc488b0d990>]"
            ]
          },
          "metadata": {
            "tags": []
          },
          "execution_count": 72
        },
        {
          "output_type": "display_data",
          "data": {
            "image/png": "[encoded data removed]",
            "text/plain": [
              "<Figure size 432x288 with 1 Axes>"
            ]
          },
          "metadata": {
            "tags": [],
            "needs_background": "light"
          }
        }
      ]
    },
    {
      "cell_type": "markdown",
      "metadata": {
        "id": "c6ttTX-4-yHq"
      },
      "source": [
        "### [평일과 휴일 카드거래액 비교]"
      ]
    },
    {
      "cell_type": "code",
      "metadata": {
        "colab": {
          "base_uri": "https://localhost:8080/"
        },
        "id": "qEh7O1Ll9lTg",
        "outputId": "485a6fc8-1311-40e2-ba90-f39a4978bb21"
      },
      "source": [
        "#평일의 평균과 휴일의 평균 비교하기 (amount값 참고)\n",
        "train.groupby(['holyday']).mean()['amount']\n",
        "#휴일이 평일에 있을 가능성이 높기 때문인 듯 함"
      ],
      "execution_count": null,
      "outputs": [
        {
          "output_type": "execute_result",
          "data": {
            "text/plain": [
              "holyday\n",
              "0    146.476094\n",
              "1    134.881488\n",
              "Name: amount, dtype: float64"
            ]
          },
          "metadata": {
            "tags": []
          },
          "execution_count": 75
        }
      ]
    },
    {
      "cell_type": "markdown",
      "metadata": {
        "id": "a4f6GNwd_M4k"
      },
      "source": [
        "### [요일별 비교]"
      ]
    },
    {
      "cell_type": "code",
      "metadata": {
        "colab": {
          "base_uri": "https://localhost:8080/"
        },
        "id": "cfp2qEvF-Ru-",
        "outputId": "abc42038-1e90-402c-fda0-26abd2541dbb"
      },
      "source": [
        "#요일별 평균 비교하기\n",
        "train.groupby(['days_of_week']).mean()['amount']\n",
        "#결과를 통해 목요일과 금요일의 카드 거래액이 많음을 알 수 있음"
      ],
      "execution_count": null,
      "outputs": [
        {
          "output_type": "execute_result",
          "data": {
            "text/plain": [
              "days_of_week\n",
              "0    143.199131\n",
              "1    148.230134\n",
              "2    149.429079\n",
              "3    150.447155\n",
              "4    150.952690\n",
              "5    146.961930\n",
              "6    131.532084\n",
              "Name: amount, dtype: float64"
            ]
          },
          "metadata": {
            "tags": []
          },
          "execution_count": 76
        }
      ]
    }
  ]
}